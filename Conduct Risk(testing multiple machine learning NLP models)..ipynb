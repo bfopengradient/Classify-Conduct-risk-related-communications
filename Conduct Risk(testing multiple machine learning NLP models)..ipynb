{
 "cells": [
  {
   "cell_type": "markdown",
   "metadata": {},
   "source": []
  },
  {
   "cell_type": "markdown",
   "metadata": {},
   "source": [
    "#### Objective \n",
    "The objective is to find the least complex and quickest-to-compute model with highest F1 score. The task was to classify innocent communications versus conduct risk related communications.  The domain is financial services.\n",
    "The task was reduced to a binary classification problem with a total of 130,000 sentences. Class labels are balanced.\n",
    "\n",
    "#### Models are as follows:\n",
    "1. Model one:Embedding matrix with one dimensional CNN,Max pooling and LSTM(5).\n",
    "2. Model two:Embedding matrix with multilayered LSTM and fully connected layers.\n",
    "3. Model three:Embedding matrix with LSTM and multilayered GRU(2).\n",
    "4. Model four:Gridsearch CV(Count Vectorizer/TFIDF with SGD classifier(log/hinge)loss). \n",
    "5. Model five:TFIDF(8,10) with fully connected neural network.\n",
    "6. Model six:Embedding matrix with fully connected neural network.\n",
    "\n",
    "#### Communications of interest relates to the following conduct risk triggers.  \n",
    "1.  Broker misrepresentation\n",
    "2.  Client dissatisfaction\n",
    "3.  Evassiveness\n",
    "4.  Possible disclosure issues\n",
    "5.  Possible trader spoofing\n",
    "\n",
    "#### Results(F1 scores). \n",
    "Models are  ranked below from highest F1 score to lowest. I am less interested in the accuracy metric given the context. Generally scores are very similar but some models are much more complex and computationally expensive than others.\n",
    "1. Model five:0.9999237\n",
    "2. Model six:0.9999231 \n",
    "3. Model one:0.9998463 \n",
    "4. Model three:0.9998079 \n",
    "5. Model two:0.9997696\n",
    "6. Model four:0.9997607(mean)\n",
    "\n",
    "##### Footnote: \n",
    "Data is modelled at sentence level and for this experiment in the spirit of time efficiency each net was trained over no more than 10 epochs and generally no less than batch sizes of 100 sentences. Each net had the same parameters applied for any reductions in the learning rate. I allowing for all layers to be updated during training in each neural net. \n",
    "\n",
    "The references below cite various pieces of research by various pillars of the machine learning and deep learning disciplines each of their work was influential in which models were chosen and how in places to structure the neural networks in this analysis. \n",
    "\n",
    "\n",
    "###### References.\n",
    "\n",
    "1. Bengio, Y. (2009). Learning deep architectures for AI. Foundations and Trends in Machine Learning, 2, 1–127. Also published as a book. Now Publishers, 2009.\n",
    "\n",
    "\n",
    "2. Cho K ,Van Merrienboer B, Gulcehre,C , Bahdanau, D, Bengio, Y(2014). Learning phrase representations using RNN encoder-decoder for statistical machine translation. In Empirical Methods in Natural Language Processing (EMNLP) . 2014:1724–1734.  October 25-29, 2014, Doha, Qatar.\n",
    "\n",
    "\n",
    "3. Collobert, R., & Weston, J. (2008). A unified architecture for natural language processing: Deep neural networks with multitask learning. ICML 2008.\n",
    "\n",
    "\n",
    "4. Gal Y,Ghahramani Z(2015): A theoretically grounded application of dropout in recurrent neural networks.\n",
    "\n",
    "\n",
    "5. Hochreiter,S ,Schmidhuber J (1997). \"Long short-term memory\". Neural Computation. 9 (8): 1735–1780.\n",
    "\n",
    "\n",
    "6. LeCun, Y., Bottou, L., Bengio, Y., & Haffner, P. (1998a).Gradient-based learning applied to document recognition. Proceedings of the IEEE, 86, 2278–2324.\n",
    "\n",
    "\n",
    "7. LeCun, Y., Bottou, L., Orr, G. B., & Muller, K.-R. (1998b). Efficient backprop. In Neural networks, tricks of the trade, Lecture Notes in Computer Science LNCS 1524. Springer Verlag. \n",
    "\n",
    "\n",
    "8. Luhn, Hans Peter (1957). \"A Statistical Approach to Mechanized Encoding and Searching of Literary Information\" (PDF). IBM Journal of Research and Development. 1 (4): 309–317. \n",
    "\n",
    "\n",
    "9. Rumelhart, D. E., Hinton, G. E., & Williams, R. J. (1986). Learning representations by back-propagating errors. Nature, 323,533–536.\n",
    "\n",
    "\n",
    "10. Spärck Jones, K. (1972). \"A Statistical Interpretation of Term Specificity and Its Application in Retrieval\". Journal of Documentation. 28: 11–21. \n",
    "\n",
    "\n",
    "11. Glorot,X, Bordes,A and  Bengio.Y (2011). Deep sparse rectifier neural networks. In AISTATS’2011.\n",
    "\n",
    "\n",
    "12. Glorot X Bengio,Y,(2010). Understanding the difficulty of training deep feedforward neural networks,DIRO, Universite de Montreal, Montreal, Quebec, Canada\n",
    " \n",
    "\n",
    "#### Dec/2018"
   ]
  },
  {
   "cell_type": "code",
   "execution_count": 28,
   "metadata": {},
   "outputs": [],
   "source": [
    "#Tensorflow\n",
    "import tensorflow as tf \n",
    "\n",
    "#Pandas\n",
    "import pandas as pd\n",
    "from pandas import read_csv\n",
    "\n",
    "#Numpy\n",
    "import numpy as np\n",
    "from numpy import array\n",
    "from array import array\n",
    "from numpy import argmax\n",
    "from numpy import zeros\n",
    "\n",
    "#Scipy\n",
    "import scipy as sp\n",
    "from scipy import interp\n",
    "\n",
    "#Randoms\n",
    "import os\n",
    "from tqdm import tqdm \n",
    "from itertools import cycle\n",
    "import logging\n",
    "logging.basicConfig(format='%(asctime)s : %(levelname)s : %(message)s', level=logging.INFO)\n",
    "import string\n",
    "\n",
    "#Matplotlib  \n",
    "%matplotlib inline\n",
    "import matplotlib.pyplot as plt\n",
    "\n",
    "#SK Learn\n",
    "import sklearn\n",
    "from sklearn.model_selection import train_test_split\n",
    "from sklearn.model_selection import cross_val_score\n",
    "from sklearn.feature_extraction.text import CountVectorizer, TfidfVectorizer\n",
    "from sklearn.feature_extraction.text import TfidfTransformer\n",
    "from sklearn import metrics\n",
    "from sklearn.metrics import roc_curve, auc\n",
    "from sklearn import preprocessing\n",
    "from sklearn.externals import joblib\n",
    "from sklearn.preprocessing import label_binarize\n",
    "from sklearn import cluster\n",
    "from sklearn.externals import joblib\n",
    "from sklearn.linear_model import LogisticRegression\n",
    "from sklearn.multiclass import OneVsRestClassifier\n",
    "from sklearn import ensemble\n",
    "from sklearn.preprocessing import LabelEncoder\n",
    "from sklearn.model_selection import learning_curve\n",
    "from sklearn.model_selection import StratifiedKFold\n",
    "from sklearn.metrics import classification_report\n",
    "from sklearn.metrics import confusion_matrix\n",
    "from sklearn.metrics import f1_score\n",
    "from sklearn.metrics import mean_squared_error\n",
    "from sklearn.utils import resample\n",
    "from sklearn.preprocessing import normalize\n",
    "from sklearn.linear_model import SGDClassifier\n",
    "from sklearn.model_selection import GridSearchCV\n",
    "from sklearn.pipeline import Pipeline\n",
    "   \n",
    "#Keras\n",
    "import keras\n",
    "from keras.engine import Input\n",
    "from keras.models import Model\n",
    "from keras.layers.merge import dot\n",
    "from keras.utils import plot_model\n",
    "from keras import backend as K\n",
    "from keras import callbacks\n",
    "from keras import layers\n",
    "from keras import models\n",
    "from keras.wrappers.scikit_learn import KerasClassifier\n",
    "from keras.callbacks import ModelCheckpoint\n",
    "from keras.callbacks import ReduceLROnPlateau\n",
    "from keras.models import Sequential\n",
    "from keras.layers import Dense\n",
    "from keras.wrappers.scikit_learn import KerasClassifier\n",
    "from keras.preprocessing.text import Tokenizer\n",
    "from keras.preprocessing.sequence import pad_sequences\n",
    "from keras.utils.np_utils import to_categorical\n",
    "from keras.layers import Input, Dense, Flatten\n",
    "from keras.layers import Conv1D, MaxPooling1D\n",
    "from keras.layers import TimeDistributed\n",
    "from keras.layers.wrappers import TimeDistributed, Bidirectional\n",
    "from keras.layers.embeddings import Embedding\n",
    "from keras.layers.recurrent import LSTM, GRU\n",
    "from keras.layers.core import Dense, Masking\n",
    "from keras import regularizers\n",
    "from keras.layers import Flatten\n",
    "from keras.layers import Embedding\n",
    "from keras.layers import Dropout, Input\n",
    "from keras.layers.noise import GaussianNoise\n",
    "from keras.layers import LSTM\n",
    "from keras import optimizers\n",
    "from keras import regularizers\n",
    "\n",
    "#NLTK for Count Vectorizer and TFIDF models. \n",
    "import nltk \n",
    "from nltk.tokenize import RegexpTokenizer\n",
    "from nltk.corpus import stopwords\n",
    "import re\n",
    "from nltk import wordpunct_tokenize\n",
    "from textblob import TextBlob, Word\n",
    "from nltk import word_tokenize          \n",
    "from nltk.stem import WordNetLemmatizer \n",
    " \n",
    "#Lemmatizer\n",
    "class LemmaTokenizer(object):     \n",
    "    def __init__(self):\n",
    "        self.wnl = WordNetLemmatizer()\n",
    "    def __call__(self, articles):\n",
    "        return [self.wnl.lemmatize(t) for t in word_tokenize(articles)]\n",
    "    \n",
    "#Print Confusion matrix and F1 score\n",
    "def print_metrics(self,y):\n",
    "    pred_round_1 = np.round(self, decimals=0,out=None)\n",
    "    f1 = f1_score(y, pred_round_1,average='binary')\n",
    "    con_1= confusion_matrix(y, pred_round_1)\n",
    "    print(con_1)\n",
    "    print(f1)\n",
    "    \n",
    "#Plot model convergence path    \n",
    "def plot_model(self):\n",
    "    plt.plot(self.history['acc'])\n",
    "    plt.plot(self.history['val_acc'])\n",
    "    plt.title('model accuracy')\n",
    "    plt.ylabel('accuracy')\n",
    "    plt.xlabel('epoch')\n",
    "    plt.legend(['train', 'val'], loc='upper left')\n",
    "    plt.show()   \n",
    "    plt.plot(self.history['loss'])\n",
    "    plt.plot(self.history['val_loss'])\n",
    "    plt.title('model loss')\n",
    "    plt.ylabel('loss')\n",
    "    plt.xlabel('epoch')\n",
    "    plt.legend(['train', 'val'], loc='upper left')\n",
    "    plt.show() "
   ]
  },
  {
   "cell_type": "code",
   "execution_count": 2,
   "metadata": {},
   "outputs": [],
   "source": [
    "#Read in data\n",
    "t = pd.read_csv('sentences.csv',encoding='utf8')\n",
    "t_1 = pd.read_csv('sentences_2.csv',encoding='utf8') \n",
    "t.drop(columns='Misconduct_type',inplace=True)\n",
    "result = pd.concat([t,t_1], ignore_index=True)\n",
    "\n",
    "values = {'Label_bin': 0}\n",
    "result.fillna(value=values,inplace=True)  "
   ]
  },
  {
   "cell_type": "code",
   "execution_count": 3,
   "metadata": {},
   "outputs": [],
   "source": [
    "#Resample classes \n",
    "#Noise(sentences not of interest)\n",
    "training_majority = result[result.Label_bin==0]\n",
    "#Signal(sentences of interest)\n",
    "training_minority = result[result.Label_bin==1]\n",
    " \n",
    "#Upsample minority class\n",
    "training_minority_upsampled = resample(training_minority, \n",
    "                                 replace=True,     # sample with replacement\n",
    "                                 n_samples=65000,    # to match majority class\n",
    "                                 random_state=123) # reproducible results\n",
    " \n",
    "# Combine majority class with upsampled minority class\n",
    "df_upsampled = pd.concat([training_majority, training_minority_upsampled])\n",
    " \n",
    "#df_upsampled.shape\n",
    "result = df_upsampled  "
   ]
  },
  {
   "cell_type": "code",
   "execution_count": 4,
   "metadata": {},
   "outputs": [],
   "source": [
    "#Prep for word embedding matrix\n",
    "#Tokenize,pad and encode.\n",
    "t = Tokenizer()\n",
    "docs= result['Sentences']\n",
    "t.fit_on_texts(docs)\n",
    "vocab_size = len(t.word_index) + 1\n",
    "# integer encode the documents\n",
    "encoded_docs = t.texts_to_sequences(docs)\n",
    "#Print(encoded_docs)\n",
    "#Pad documents to a max length of 15 words\n",
    "max_length = 15\n",
    "padded_docs = pad_sequences(encoded_docs, maxlen=max_length, padding='post')\n",
    "vocab_size\n",
    "labels = result['Label_bin'] "
   ]
  },
  {
   "cell_type": "code",
   "execution_count": 5,
   "metadata": {},
   "outputs": [],
   "source": [
    "#Train/Test 80/20\n",
    "X_train, X_test, y_train, y_test = train_test_split(padded_docs,labels, test_size=0.20, shuffle=True)"
   ]
  },
  {
   "cell_type": "code",
   "execution_count": 6,
   "metadata": {},
   "outputs": [
    {
     "name": "stdout",
     "output_type": "stream",
     "text": [
      "Train/test shapes\n",
      "(104380, 15) (26096, 15) (104380,) (26096,)\n",
      "Baseline label check\n",
      "0.0    13078\n",
      "1.0    13018\n",
      "Name: Label_bin, dtype: int64\n"
     ]
    }
   ],
   "source": [
    "#Check shapes and baseline\n",
    "print (\"Train/test shapes\")\n",
    "print (X_train.shape, X_test.shape, y_train.shape, y_test.shape)\n",
    "print(\"Baseline label check\")\n",
    "print(y_test.value_counts())"
   ]
  },
  {
   "cell_type": "markdown",
   "metadata": {},
   "source": [
    "### Model one:  One dimension CNN layer, Max Pooling and LSTM layer. Dropout, L2 Regularization and learning rate reduction on any plateau in validation loss level."
   ]
  },
  {
   "cell_type": "code",
   "execution_count": 7,
   "metadata": {},
   "outputs": [
    {
     "name": "stdout",
     "output_type": "stream",
     "text": [
      "Train on 83504 samples, validate on 20876 samples\n",
      "Epoch 1/10\n",
      " - 47s - loss: 28.2021 - acc: 0.9334 - val_loss: 6.7106 - val_acc: 0.9999\n",
      "Epoch 2/10\n",
      " - 45s - loss: 2.4018 - acc: 0.9997 - val_loss: 0.7153 - val_acc: 0.9998\n",
      "Epoch 3/10\n",
      " - 45s - loss: 0.5284 - acc: 0.9998 - val_loss: 0.7091 - val_acc: 0.9998\n",
      "Epoch 4/10\n",
      " - 44s - loss: 0.4231 - acc: 0.9993 - val_loss: 0.5484 - val_acc: 0.9998\n",
      "Epoch 5/10\n",
      " - 44s - loss: 0.3649 - acc: 1.0000 - val_loss: 0.7075 - val_acc: 0.9999\n",
      "\n",
      "Epoch 00005: ReduceLROnPlateau reducing learning rate to 0.0001500000071246177.\n",
      "Epoch 6/10\n",
      " - 44s - loss: 0.3319 - acc: 0.9998 - val_loss: 0.3259 - val_acc: 0.9998\n",
      "Epoch 7/10\n",
      " - 43s - loss: 0.3222 - acc: 1.0000 - val_loss: 0.3207 - val_acc: 0.9999\n",
      "Epoch 8/10\n",
      " - 45s - loss: 0.3152 - acc: 1.0000 - val_loss: 0.3176 - val_acc: 0.9999\n",
      "Epoch 9/10\n",
      " - 45s - loss: 0.3083 - acc: 1.0000 - val_loss: 0.3116 - val_acc: 0.9999\n",
      "Epoch 10/10\n",
      " - 46s - loss: 0.3015 - acc: 1.0000 - val_loss: 0.3048 - val_acc: 0.9999\n"
     ]
    }
   ],
   "source": [
    "#Starting with one dimensional Convolutional layer\n",
    "#1st LSTM layer has some dropout,initializing weights with glorot normalizations\n",
    "#2nd LSTM has same normalisation used for initialization but also has l2 regularisation.\n",
    "#Reducing larning rate on plateau on validation loss level.\n",
    " \n",
    "\n",
    "labels= result['Label_bin']\n",
    "\n",
    "\n",
    "\n",
    "model_1 = Sequential()\n",
    "\n",
    "#Embedding layer\n",
    "#Emedding weights not frozen during training\n",
    "e = Embedding(vocab_size, 200, input_length=max_length,trainable=True)\n",
    "model_1.add(e)\n",
    "\n",
    "#1D CNN\n",
    "#Testing narrower normalization of initializer as default has wider normalisation tolerance.\n",
    "c = Conv1D(filters=20, kernel_size=15,padding='same',  kernel_initializer='glorot_normal', activation='relu')\n",
    "model_1.add(c)\n",
    "\n",
    "#Maxpool\n",
    "mp= MaxPooling1D(pool_size=2)\n",
    "model_1.add(mp)\n",
    "              \n",
    "#LSTM 1st layer\n",
    "ls1= LSTM(100, input_shape=(15, 1),kernel_initializer='glorot_normal',\n",
    "          return_sequences=True,activation='relu',dropout=0.1,\n",
    "          recurrent_dropout=0.1)\n",
    "model_1.add(ls1)\n",
    "              \n",
    "#LSTM 2nd layer, testing narrower normalization of initializer.Using regularisation just in this layer.\n",
    "ls2= LSTM(100, input_shape=(15, 1),kernel_initializer='glorot_normal',activation='relu',kernel_regularizer=regularizers.l2(0.5), \n",
    "           bias_regularizer=regularizers.l2(0.5),activity_regularizer=regularizers.l2(0.5),\n",
    "          recurrent_regularizer=regularizers.l2(0.5))\n",
    "model_1.add(ls2)\n",
    "\n",
    "#Final fully Connected Dense layer \n",
    "d = Dense(1, activation='sigmoid')\n",
    "model_1.add(d)\n",
    "\n",
    "#Using reduce learning rate on val_loss plateau with a patience of one Epoch\n",
    "lr = keras.callbacks.ReduceLROnPlateau(monitor='val_loss', factor=0.15, \n",
    "                                  patience=1, verbose=2, mode='auto', cooldown=0, min_lr=0.00001)\n",
    "\n",
    " \n",
    "\n",
    "\n",
    "#Compile ,fit model and evaluate on test data.\n",
    "model_1.compile(optimizer='adam', loss='binary_crossentropy',metrics=['acc'])\n",
    "  \n",
    "history_1 = model_1.fit(X_train, y_train, epochs=10, callbacks=[lr],batch_size=100, \n",
    "           validation_split=0.20, shuffle=True, verbose=2)\n",
    " \n",
    "model_1.evaluate(X_test, y_test, verbose=2,batch_size=100)\n",
    "\n",
    "pred_cnn = model_1.predict(X_test, batch_size=100,verbose=2)"
   ]
  },
  {
   "cell_type": "code",
   "execution_count": 8,
   "metadata": {},
   "outputs": [
    {
     "name": "stdout",
     "output_type": "stream",
     "text": [
      "_________________________________________________________________\n",
      "Layer (type)                 Output Shape              Param #   \n",
      "=================================================================\n",
      "embedding_1 (Embedding)      (None, 15, 200)           78000     \n",
      "_________________________________________________________________\n",
      "conv1d_1 (Conv1D)            (None, 15, 20)            60020     \n",
      "_________________________________________________________________\n",
      "max_pooling1d_1 (MaxPooling1 (None, 7, 20)             0         \n",
      "_________________________________________________________________\n",
      "lstm_1 (LSTM)                (None, 7, 100)            48400     \n",
      "_________________________________________________________________\n",
      "lstm_2 (LSTM)                (None, 100)               80400     \n",
      "_________________________________________________________________\n",
      "dense_1 (Dense)              (None, 1)                 101       \n",
      "=================================================================\n",
      "Total params: 266,921\n",
      "Trainable params: 266,921\n",
      "Non-trainable params: 0\n",
      "_________________________________________________________________\n"
     ]
    }
   ],
   "source": [
    "model_1.summary() "
   ]
  },
  {
   "cell_type": "code",
   "execution_count": 9,
   "metadata": {},
   "outputs": [
    {
     "name": "stdout",
     "output_type": "stream",
     "text": [
      "[[13074     4]\n",
      " [    0 13018]]\n",
      "0.9998463901689708\n"
     ]
    }
   ],
   "source": [
    "print_metrics(pred_cnn,y_test)"
   ]
  },
  {
   "cell_type": "code",
   "execution_count": 10,
   "metadata": {},
   "outputs": [
    {
     "data": {
      "image/png": "[encoded data removed]",
      "text/plain": [
       "<Figure size 432x288 with 1 Axes>"
      ]
     },
     "metadata": {
      "needs_background": "light"
     },
     "output_type": "display_data"
    },
    {
     "data": {
      "image/png": "[encoded data removed]",
      "text/plain": [
       "<Figure size 432x288 with 1 Axes>"
      ]
     },
     "metadata": {
      "needs_background": "light"
     },
     "output_type": "display_data"
    }
   ],
   "source": [
    "plot_model(history_1)"
   ]
  },
  {
   "cell_type": "markdown",
   "metadata": {},
   "source": [
    "### Model two: Two  LSTM layers with small amount of dropout and reduction on plateau applied during training. Reducing dimensionality through the net into final layer."
   ]
  },
  {
   "cell_type": "code",
   "execution_count": 11,
   "metadata": {},
   "outputs": [
    {
     "name": "stdout",
     "output_type": "stream",
     "text": [
      "Train on 83504 samples, validate on 20876 samples\n",
      "Epoch 1/10\n",
      " - 76s - loss: 0.0240 - acc: 0.9894 - val_loss: 0.0027 - val_acc: 0.9998\n",
      "Epoch 2/10\n",
      " - 72s - loss: 0.0012 - acc: 0.9999 - val_loss: 0.0050 - val_acc: 0.9995\n",
      "\n",
      "Epoch 00002: ReduceLROnPlateau reducing learning rate to 0.0001500000071246177.\n",
      "Epoch 3/10\n",
      " - 73s - loss: 7.2596e-04 - acc: 0.9999 - val_loss: 0.0036 - val_acc: 0.9997\n",
      "\n",
      "Epoch 00003: ReduceLROnPlateau reducing learning rate to 2.2500001068692655e-05.\n",
      "Epoch 4/10\n",
      " - 73s - loss: 5.8854e-04 - acc: 1.0000 - val_loss: 0.0035 - val_acc: 0.9997\n",
      "\n",
      "Epoch 00004: ReduceLROnPlateau reducing learning rate to 1e-05.\n",
      "Epoch 5/10\n",
      " - 73s - loss: 5.8379e-04 - acc: 1.0000 - val_loss: 0.0035 - val_acc: 0.9997\n",
      "Epoch 6/10\n",
      " - 72s - loss: 5.8356e-04 - acc: 1.0000 - val_loss: 0.0035 - val_acc: 0.9997\n",
      "Epoch 7/10\n",
      " - 78s - loss: 5.7969e-04 - acc: 1.0000 - val_loss: 0.0035 - val_acc: 0.9997\n",
      "Epoch 8/10\n",
      " - 79s - loss: 5.7706e-04 - acc: 1.0000 - val_loss: 0.0035 - val_acc: 0.9997\n",
      "Epoch 9/10\n",
      " - 77s - loss: 5.7449e-04 - acc: 1.0000 - val_loss: 0.0036 - val_acc: 0.9997\n",
      "Epoch 10/10\n",
      " - 78s - loss: 5.7667e-04 - acc: 1.0000 - val_loss: 0.0035 - val_acc: 0.9997\n"
     ]
    }
   ],
   "source": [
    "#LSTM layers\n",
    "model_2 = Sequential()\n",
    "\n",
    "\n",
    "#Add embedding layer, allow for layer to retrain\n",
    "e = Embedding(vocab_size, 200, input_length=15, trainable=True)\n",
    "model_2.add(e)\n",
    "\n",
    "#LSTM first layer\n",
    "model_2.add(LSTM(200, input_shape=(15,1),kernel_initializer='glorot_normal',return_sequences=True,activation='relu',\n",
    "               dropout=0.15))\n",
    "\n",
    "#LSTM second layer,reducing dimensions\n",
    "model_2.add(LSTM(100,kernel_initializer='glorot_normal',activation='relu',\n",
    "               dropout=0.15))\n",
    "\n",
    "#Dense layer, 1st, reducing dimensions again\n",
    "model_2.add(Dense(50,kernel_initializer='glorot_normal',activation='relu'))\n",
    "\n",
    "#Dense layer,final layer\n",
    "model_2.add(Dense(1, activation='sigmoid'))\n",
    "          \n",
    "#Reducing learning rate on a Val loss plateau  \n",
    "lr = keras.callbacks.ReduceLROnPlateau(monitor='val_loss', factor=0.15, \n",
    "                                  patience=1, verbose=2, mode='auto', cooldown=0, min_lr=0.00001) \n",
    "          \n",
    "#Compile ,fit and evaluate the model\n",
    "model_2.compile(optimizer='Adam', loss='binary_crossentropy', metrics=['acc'])\n",
    " \n",
    "#Fit the model\n",
    "history_2 = model_2.fit(X_train, y_train, callbacks=[lr], validation_split=0.2, shuffle=True, epochs=10, verbose=2,batch_size=100)\n",
    "\n",
    "#Evaluate the model\n",
    "model_2.evaluate(X_test, y_test, verbose=2,batch_size=100)\n",
    "\n",
    "pred_ldense = model_2.predict(X_test, batch_size=100,verbose=2)"
   ]
  },
  {
   "cell_type": "code",
   "execution_count": 12,
   "metadata": {},
   "outputs": [
    {
     "name": "stdout",
     "output_type": "stream",
     "text": [
      "_________________________________________________________________\n",
      "Layer (type)                 Output Shape              Param #   \n",
      "=================================================================\n",
      "embedding_2 (Embedding)      (None, 15, 200)           78000     \n",
      "_________________________________________________________________\n",
      "lstm_3 (LSTM)                (None, 15, 200)           320800    \n",
      "_________________________________________________________________\n",
      "lstm_4 (LSTM)                (None, 100)               120400    \n",
      "_________________________________________________________________\n",
      "dense_2 (Dense)              (None, 50)                5050      \n",
      "_________________________________________________________________\n",
      "dense_3 (Dense)              (None, 1)                 51        \n",
      "=================================================================\n",
      "Total params: 524,301\n",
      "Trainable params: 524,301\n",
      "Non-trainable params: 0\n",
      "_________________________________________________________________\n"
     ]
    }
   ],
   "source": [
    "model_2.summary()"
   ]
  },
  {
   "cell_type": "code",
   "execution_count": 13,
   "metadata": {},
   "outputs": [
    {
     "name": "stdout",
     "output_type": "stream",
     "text": [
      "[[13072     6]\n",
      " [    0 13018]]\n",
      "0.9997696029490822\n"
     ]
    }
   ],
   "source": [
    "print_metrics(pred_ldense,y_test)"
   ]
  },
  {
   "cell_type": "code",
   "execution_count": 14,
   "metadata": {},
   "outputs": [
    {
     "data": {
      "image/png": "[encoded data removed]",
      "text/plain": [
       "<Figure size 432x288 with 1 Axes>"
      ]
     },
     "metadata": {
      "needs_background": "light"
     },
     "output_type": "display_data"
    },
    {
     "data": {
      "image/png": "[encoded data removed]",
      "text/plain": [
       "<Figure size 432x288 with 1 Axes>"
      ]
     },
     "metadata": {
      "needs_background": "light"
     },
     "output_type": "display_data"
    }
   ],
   "source": [
    "plot_model(history_2) "
   ]
  },
  {
   "cell_type": "markdown",
   "metadata": {},
   "source": [
    "### Model three: Combining LSTM  with multiple GRU layers. Dropout and regularization applied to first LSTM layer followed by GRU layers with dimensionality reduced into final Dense layer."
   ]
  },
  {
   "cell_type": "code",
   "execution_count": 15,
   "metadata": {},
   "outputs": [
    {
     "name": "stdout",
     "output_type": "stream",
     "text": [
      "Train on 83504 samples, validate on 20876 samples\n",
      "Epoch 1/10\n",
      " - 99s - loss: 0.9615 - acc: 0.9944 - val_loss: 0.5188 - val_acc: 0.9996\n",
      "Epoch 2/10\n",
      " - 96s - loss: 0.3522 - acc: 0.9998 - val_loss: 0.2344 - val_acc: 0.9997\n",
      "Epoch 3/10\n",
      " - 95s - loss: 0.1684 - acc: 0.9998 - val_loss: 0.1171 - val_acc: 0.9996\n",
      "Epoch 4/10\n",
      " - 94s - loss: 0.0852 - acc: 0.9998 - val_loss: 0.0623 - val_acc: 0.9997\n",
      "Epoch 5/10\n",
      " - 95s - loss: 0.0438 - acc: 1.0000 - val_loss: 0.0320 - val_acc: 0.9997\n",
      "Epoch 6/10\n",
      " - 96s - loss: 0.0243 - acc: 0.9998 - val_loss: 0.0178 - val_acc: 0.9998\n",
      "Epoch 7/10\n",
      " - 96s - loss: 0.0123 - acc: 1.0000 - val_loss: 0.0100 - val_acc: 0.9998\n",
      "Epoch 8/10\n",
      " - 96s - loss: 0.0074 - acc: 0.9998 - val_loss: 0.0351 - val_acc: 0.9962\n",
      "\n",
      "Epoch 00008: ReduceLROnPlateau reducing learning rate to 0.0014999999664723873.\n",
      "Epoch 9/10\n",
      " - 96s - loss: 0.0109 - acc: 0.9996 - val_loss: 0.0108 - val_acc: 0.9995\n",
      "\n",
      "Epoch 00009: ReduceLROnPlateau reducing learning rate to 0.00022500000195577739.\n",
      "Epoch 10/10\n",
      " - 95s - loss: 0.0080 - acc: 0.9999 - val_loss: 0.0104 - val_acc: 0.9995\n",
      "\n",
      "Epoch 00010: ReduceLROnPlateau reducing learning rate to 3.3749999420251695e-05.\n"
     ]
    }
   ],
   "source": [
    "#LSTM with l2 regularisation and multiple GRU layers\n",
    " \n",
    "model_3 = Sequential()\n",
    "\n",
    "#Add embedding layer, not frozen during training\n",
    "e = Embedding(vocab_size, 200, input_length=15, trainable=True)\n",
    "model_3.add(e)\n",
    "\n",
    "#LSTM layer\n",
    "ls_tm =  LSTM(200, input_shape=(15,1),activation='tanh', recurrent_activation='hard_sigmoid', \n",
    "                  use_bias=True,kernel_initializer='glorot_normal', \n",
    "                  recurrent_initializer='orthogonal', bias_initializer='zeros', \n",
    "                  unit_forget_bias=True, kernel_regularizer=regularizers.l2(0.01), recurrent_regularizer=regularizers.l2(0.01), \n",
    "                  bias_regularizer=regularizers.l2(0.01), activity_regularizer=None, kernel_constraint=None,\n",
    "                  recurrent_constraint=None, bias_constraint=None, dropout=0.25, recurrent_dropout=0.25, \n",
    "                  implementation=1, return_sequences=True, return_state=False, go_backwards=False, \n",
    "                  stateful=False, unroll=False)\n",
    "model_3.add(ls_tm)\n",
    "\n",
    "\n",
    "#Adding GRU layer and reducing dimensions\n",
    "rnn_gru = GRU(100, kernel_initializer='glorot_normal',return_sequences=True)\n",
    "model_3.add(rnn_gru)\n",
    "\n",
    "#Adding second GRU layer with fewer dimensions again\n",
    "small_gru = GRU(50,kernel_initializer='glorot_normal',return_sequences=True)\n",
    "model_3.add(small_gru)\n",
    "\n",
    "#third and final GRU with even smaller dimensions\n",
    "smaller_gru = GRU(15,kernel_initializer='glorot_normal')\n",
    "model_3.add(smaller_gru)\n",
    "\n",
    "#Final fully connected layer \n",
    "model_3.add(Dense(1, activation='sigmoid'))\n",
    "\n",
    "\n",
    "#Reducing learning rate on val loss plateau          \n",
    "lr = keras.callbacks.ReduceLROnPlateau(monitor='val_loss', factor=0.15, \n",
    "                                  patience=1, verbose=2, mode='auto', cooldown=0, min_lr=0.000001) \n",
    "          \n",
    "#Compile,fit and evaluate the model.Checking Adagrad optimizer vs Adam on same loss function.\n",
    "model_3.compile(optimizer= 'Adagrad', loss='binary_crossentropy', metrics=['acc'])\n",
    " \n",
    "#fit the model\n",
    "history_3 = model_3.fit(X_train, y_train, callbacks=[lr], validation_split=0.2, shuffle=True, epochs=10, verbose=2,batch_size=100)\n",
    "\n",
    "#evaluate the model\n",
    "model_3.evaluate(X_test, y_test, verbose=2,batch_size=100)\n",
    "\n",
    "pred_k = model_3.predict(X_test, batch_size=1,verbose=2)\n",
    " "
   ]
  },
  {
   "cell_type": "code",
   "execution_count": 16,
   "metadata": {},
   "outputs": [
    {
     "name": "stdout",
     "output_type": "stream",
     "text": [
      "_________________________________________________________________\n",
      "Layer (type)                 Output Shape              Param #   \n",
      "=================================================================\n",
      "embedding_3 (Embedding)      (None, 15, 200)           78000     \n",
      "_________________________________________________________________\n",
      "lstm_5 (LSTM)                (None, 15, 200)           320800    \n",
      "_________________________________________________________________\n",
      "gru_1 (GRU)                  (None, 15, 100)           90300     \n",
      "_________________________________________________________________\n",
      "gru_2 (GRU)                  (None, 15, 50)            22650     \n",
      "_________________________________________________________________\n",
      "gru_3 (GRU)                  (None, 15)                2970      \n",
      "_________________________________________________________________\n",
      "dense_4 (Dense)              (None, 1)                 16        \n",
      "=================================================================\n",
      "Total params: 514,736\n",
      "Trainable params: 514,736\n",
      "Non-trainable params: 0\n",
      "_________________________________________________________________\n"
     ]
    }
   ],
   "source": [
    "model_3.summary()"
   ]
  },
  {
   "cell_type": "code",
   "execution_count": 17,
   "metadata": {},
   "outputs": [
    {
     "name": "stdout",
     "output_type": "stream",
     "text": [
      "[[13073     5]\n",
      " [    0 13018]]\n",
      "0.9998079950846742\n"
     ]
    }
   ],
   "source": [
    "print_metrics(pred_k,y_test) "
   ]
  },
  {
   "cell_type": "code",
   "execution_count": 18,
   "metadata": {},
   "outputs": [
    {
     "data": {
      "image/png": "[encoded data removed]",
      "text/plain": [
       "<Figure size 432x288 with 1 Axes>"
      ]
     },
     "metadata": {
      "needs_background": "light"
     },
     "output_type": "display_data"
    },
    {
     "data": {
      "image/png": "[encoded data removed]",
      "text/plain": [
       "<Figure size 432x288 with 1 Axes>"
      ]
     },
     "metadata": {
      "needs_background": "light"
     },
     "output_type": "display_data"
    }
   ],
   "source": [
    "plot_model(history_3) "
   ]
  },
  {
   "cell_type": "markdown",
   "metadata": {},
   "source": [
    "### Model four: 5-fold cross-validated Gridseach Pipeline(Count Vectorizer/TFIDF feeding into SGD classifier with (log/hinge loss function) "
   ]
  },
  {
   "cell_type": "code",
   "execution_count": 19,
   "metadata": {},
   "outputs": [
    {
     "name": "stdout",
     "output_type": "stream",
     "text": [
      "Fitting 5 folds for each of 16 candidates, totalling 80 fits\n"
     ]
    },
    {
     "name": "stderr",
     "output_type": "stream",
     "text": [
      "[Parallel(n_jobs=-1)]: Done  34 tasks      | elapsed:  9.1min\n",
      "[Parallel(n_jobs=-1)]: Done  80 out of  80 | elapsed: 19.2min finished\n"
     ]
    },
    {
     "name": "stdout",
     "output_type": "stream",
     "text": [
      "Best f1 score: 1.000\n",
      "\tclf__loss: 'hinge'\n",
      "\ttfidf__use_idf: True\n",
      "\tvect__max_df: 0.75\n",
      "\tvect__ngram_range: (1, 1)\n",
      "Gridsearch f1 score(mean): 0.9997607\n",
      "Gridsearch f1 score(std dev): 0.0000733\n"
     ]
    }
   ],
   "source": [
    "#Build pipe and gridseach with cross validation.Upstream: count vectorisation/TDIDF and downstream:\n",
    "#SGD classifier with log(logistic regression) loss and hinge(SVM) loss functions to choose from. \n",
    "\n",
    "#Build pipe\n",
    "pipeline = Pipeline([\n",
    "    ('vect', CountVectorizer(input='content', encoding='utf-8', decode_error='strict', \n",
    "              strip_accents=None, lowercase=True, preprocessor=None, tokenizer=LemmaTokenizer(), \n",
    "              stop_words='english', analyzer='word', vocabulary=None)),\n",
    "    ('tfidf', TfidfTransformer()),\n",
    "    ('clf', SGDClassifier(max_iter=100))])\n",
    "\n",
    "#Define parameters and ranges for Gridsearch.\n",
    "parameters = {\n",
    "    'vect__max_df': (0.75, 1.0), # Checking removal of common words at two treshold levels\n",
    "    'vect__ngram_range': ((1, 1), (1, 2)), # Checking unigram vs bigram  \n",
    "    'tfidf__use_idf': (True, False), #Checking if IDF penalty has an effect or not   \n",
    "    'clf__loss': ('hinge', 'log')} # Checking Logistic vs Support Vector classifier\n",
    "\n",
    "#Define parameters for Gridsearch with five fold cross validation.\n",
    "grid_search = GridSearchCV(pipeline, parameters, cv=5, scoring='f1',\n",
    "                               n_jobs=-1, verbose=1,return_train_score=True)\n",
    " \n",
    "#Fit pipe\n",
    "grid_search.fit(docs, labels)\n",
    "print(\"Best F1 score: %0.3f\" % grid_search.best_score_)\n",
    "\n",
    "#Select and print best parameters  \n",
    "best_parameters = grid_search.best_estimator_.get_params()\n",
    "for param_name in sorted(parameters.keys()):\n",
    "    print(\"\\t%s: %r\" % (param_name, best_parameters[param_name]))\n",
    "    \n",
    "#Retrive all scores in Gridsearch and put into a Dataframe. \n",
    "df= pd.DataFrame(grid_search.cv_results_)\n",
    "\n",
    "#Print mean F1 score and its standard deviation. \n",
    "gs_score= df['mean_test_score'] \n",
    "mu= gs_score.mean()\n",
    "s= gs_score.std()\n",
    " \n",
    "print(\"Gridsearch F1 score(mean): %0.7f\" % mu)\n",
    "print(\"Gridsearch F1 score(std dev): %0.7f\" % s)    "
   ]
  },
  {
   "cell_type": "markdown",
   "metadata": {},
   "source": [
    "### Model five: TFIDF matrix passed to fully connected neural network."
   ]
  },
  {
   "cell_type": "code",
   "execution_count": 20,
   "metadata": {},
   "outputs": [
    {
     "name": "stdout",
     "output_type": "stream",
     "text": [
      "Baseline label check\n",
      "1.0    13115\n",
      "0.0    12981\n",
      "Name: Label_bin, dtype: int64\n",
      "Train on 83504 samples, validate on 20876 samples\n",
      "Epoch 1/10\n",
      " - 4s - loss: 0.0598 - acc: 0.9944 - val_loss: 0.0028 - val_acc: 0.9998\n",
      "Epoch 2/10\n",
      " - 2s - loss: 0.0013 - acc: 0.9999 - val_loss: 0.0018 - val_acc: 0.9998\n",
      "Epoch 3/10\n",
      " - 2s - loss: 7.1011e-04 - acc: 0.9999 - val_loss: 0.0017 - val_acc: 0.9998\n",
      "\n",
      "Epoch 00003: ReduceLROnPlateau reducing learning rate to 0.0001500000071246177.\n",
      "Epoch 4/10\n",
      " - 2s - loss: 5.5893e-04 - acc: 0.9999 - val_loss: 0.0017 - val_acc: 0.9998\n",
      "\n",
      "Epoch 00004: ReduceLROnPlateau reducing learning rate to 2.2500001068692655e-05.\n",
      "Epoch 5/10\n",
      " - 2s - loss: 5.2985e-04 - acc: 0.9999 - val_loss: 0.0017 - val_acc: 0.9998\n",
      "\n",
      "Epoch 00005: ReduceLROnPlateau reducing learning rate to 3.3750000511645338e-06.\n",
      "Epoch 6/10\n",
      " - 2s - loss: 5.2473e-04 - acc: 0.9999 - val_loss: 0.0017 - val_acc: 0.9998\n",
      "\n",
      "Epoch 00006: ReduceLROnPlateau reducing learning rate to 1e-06.\n",
      "Epoch 7/10\n",
      " - 2s - loss: 5.2373e-04 - acc: 0.9999 - val_loss: 0.0017 - val_acc: 0.9998\n",
      "Epoch 8/10\n",
      " - 2s - loss: 5.2328e-04 - acc: 0.9999 - val_loss: 0.0017 - val_acc: 0.9998\n",
      "Epoch 9/10\n",
      " - 2s - loss: 5.2271e-04 - acc: 0.9999 - val_loss: 0.0017 - val_acc: 0.9998\n",
      "Epoch 10/10\n",
      " - 2s - loss: 5.2197e-04 - acc: 0.9999 - val_loss: 0.0017 - val_acc: 0.9998\n"
     ]
    }
   ],
   "source": [
    "#Model with Document term matrix(dtm) and two fully connected layers.\n",
    "\n",
    "#Get TDIDF scores. Convert all to lowercase and Lemmatize.   \n",
    "vect = TfidfVectorizer(stop_words='english', \n",
    "                       lowercase=True, preprocessor= None,\n",
    "                       analyzer= u'word', \n",
    "                       ngram_range=(1, 1), max_df=0.75, \n",
    "                       max_features=200, \n",
    "                       use_idf=True, \n",
    "                       smooth_idf=True,\n",
    "                       tokenizer= LemmaTokenizer(),\n",
    "                       sublinear_tf=False)\n",
    "\n",
    "vect.fit(result['Sentences'])\n",
    "\n",
    "dtm = pd.DataFrame(vect.transform(result['Sentences']).todense(),\n",
    "                       columns=vect.get_feature_names()) \n",
    "#Normalize DTM for net\n",
    "dtm_n= normalize(dtm)\n",
    " \n",
    "#Split data for this model.\n",
    "X_train_2, X_test_2, y_train_2, y_test_2 = train_test_split(dtm_n,labels, test_size=0.20, shuffle=True)\n",
    "print(\"Baseline label check\")\n",
    "print(y_test_2.value_counts())\n",
    " \n",
    "\n",
    "\n",
    "#Fully connected Neural Net\n",
    "model_5 = Sequential()\n",
    "\n",
    "#First layer is Dense\n",
    "model_5.add(Dense(200,  input_dim=200, kernel_initializer='glorot_normal',activation='relu'))\n",
    "\n",
    "#Last layer is Dense \n",
    "model_5.add(Dense(1, activation='sigmoid'))\n",
    "          \n",
    "#Reduce learning rate if val loss stalls \n",
    "lr = keras.callbacks.ReduceLROnPlateau(monitor='val_loss', factor=0.15, \n",
    "                                  patience=1, verbose=2, mode='auto', cooldown=0, min_lr=0.000001)\n",
    "          \n",
    "#Compile,fit and evaluate the model\n",
    "model_5.compile(optimizer='Adam', loss='binary_crossentropy', metrics=['acc'])\n",
    "  \n",
    "#Fit the model\n",
    "history_5 = model_5.fit(X_train_2, y_train_2, callbacks=[lr], validation_split=0.2, shuffle=True, epochs=10, verbose=2,batch_size=100)\n",
    "#Evaluate the model\n",
    "model_5.evaluate(X_test_2,y_test_2, verbose=2,batch_size=100)\n",
    "\n",
    "pred_dense_5 = model_5.predict(X_test_2, batch_size=100,verbose=2)"
   ]
  },
  {
   "cell_type": "code",
   "execution_count": 21,
   "metadata": {},
   "outputs": [
    {
     "name": "stdout",
     "output_type": "stream",
     "text": [
      "_________________________________________________________________\n",
      "Layer (type)                 Output Shape              Param #   \n",
      "=================================================================\n",
      "dense_5 (Dense)              (None, 200)               40200     \n",
      "_________________________________________________________________\n",
      "dense_6 (Dense)              (None, 1)                 201       \n",
      "=================================================================\n",
      "Total params: 40,401\n",
      "Trainable params: 40,401\n",
      "Non-trainable params: 0\n",
      "_________________________________________________________________\n"
     ]
    }
   ],
   "source": [
    "model_5.summary()"
   ]
  },
  {
   "cell_type": "code",
   "execution_count": 22,
   "metadata": {},
   "outputs": [
    {
     "name": "stdout",
     "output_type": "stream",
     "text": [
      "[[12979     2]\n",
      " [    0 13115]]\n",
      "0.9999237572430619\n"
     ]
    }
   ],
   "source": [
    "print_metrics(pred_dense_5,y_test_2)  "
   ]
  },
  {
   "cell_type": "code",
   "execution_count": 23,
   "metadata": {},
   "outputs": [
    {
     "data": {
      "image/png": "[encoded data removed]",
      "text/plain": [
       "<Figure size 432x288 with 1 Axes>"
      ]
     },
     "metadata": {
      "needs_background": "light"
     },
     "output_type": "display_data"
    },
    {
     "data": {
      "image/png": "[encoded data removed]",
      "text/plain": [
       "<Figure size 432x288 with 1 Axes>"
      ]
     },
     "metadata": {
      "needs_background": "light"
     },
     "output_type": "display_data"
    }
   ],
   "source": [
    "plot_model(history_5) "
   ]
  },
  {
   "cell_type": "markdown",
   "metadata": {},
   "source": [
    "### Model six:  Embedding matrix passed to fully connected neural network. No dropout or regularization used but learning rate is reduced on any plateau in the validation loss level."
   ]
  },
  {
   "cell_type": "code",
   "execution_count": 24,
   "metadata": {},
   "outputs": [
    {
     "name": "stdout",
     "output_type": "stream",
     "text": [
      "Train on 83504 samples, validate on 20876 samples\n",
      "Epoch 1/10\n",
      " - 14s - loss: 0.0148 - acc: 0.9950 - val_loss: 0.0084 - val_acc: 0.9999\n",
      "Epoch 2/10\n",
      " - 13s - loss: 7.4871e-05 - acc: 1.0000 - val_loss: 8.0993e-04 - val_acc: 0.9999\n",
      "Epoch 3/10\n",
      " - 13s - loss: 4.5389e-06 - acc: 1.0000 - val_loss: 9.0813e-04 - val_acc: 0.9999\n",
      "\n",
      "Epoch 00003: ReduceLROnPlateau reducing learning rate to 0.0001500000071246177.\n",
      "Epoch 4/10\n",
      " - 14s - loss: 2.7551e-06 - acc: 1.0000 - val_loss: 9.1609e-04 - val_acc: 0.9999\n",
      "\n",
      "Epoch 00004: ReduceLROnPlateau reducing learning rate to 2.2500001068692655e-05.\n",
      "Epoch 5/10\n",
      " - 14s - loss: 2.5615e-06 - acc: 1.0000 - val_loss: 9.1798e-04 - val_acc: 0.9999\n",
      "\n",
      "Epoch 00005: ReduceLROnPlateau reducing learning rate to 3.3750000511645338e-06.\n",
      "Epoch 6/10\n",
      " - 14s - loss: 2.5194e-06 - acc: 1.0000 - val_loss: 9.1872e-04 - val_acc: 0.9999\n",
      "\n",
      "Epoch 00006: ReduceLROnPlateau reducing learning rate to 1e-06.\n",
      "Epoch 7/10\n",
      " - 14s - loss: 2.5111e-06 - acc: 1.0000 - val_loss: 9.1881e-04 - val_acc: 0.9999\n",
      "Epoch 8/10\n",
      " - 14s - loss: 2.5034e-06 - acc: 1.0000 - val_loss: 9.1893e-04 - val_acc: 0.9999\n",
      "Epoch 9/10\n",
      " - 13s - loss: 2.4936e-06 - acc: 1.0000 - val_loss: 9.1967e-04 - val_acc: 0.9999\n",
      "Epoch 10/10\n",
      " - 13s - loss: 2.4803e-06 - acc: 1.0000 - val_loss: 9.1993e-04 - val_acc: 0.9999\n"
     ]
    }
   ],
   "source": [
    "model_6 = Sequential()\n",
    "\n",
    "#Add Embedding layer not frozen during training\n",
    "e = Embedding(vocab_size, 200, input_length=15, trainable=True)\n",
    "model_6.add(e)\n",
    "\n",
    "#Flatten embedding output to connect to First Fully Connected Dense layer\n",
    "model_6.add(Flatten())\n",
    "model_6.add(Dense(200,  input_dim=200, kernel_initializer='glorot_normal',activation='relu'))\n",
    "\n",
    "#Final fully connected layer\n",
    "model_6.add(Dense(1, activation='sigmoid'))\n",
    "          \n",
    "#Reducing learning rate on a val loss plateau \n",
    "lr = keras.callbacks.ReduceLROnPlateau(monitor='val_loss', factor=0.15, \n",
    "                                  patience=1, verbose=2, mode='auto', cooldown=0, min_lr=0.000001)\n",
    "\n",
    "#Compile,fit and evaluate the model\n",
    "model_6.compile(optimizer='Adam', loss='binary_crossentropy', metrics=['acc'])\n",
    " \n",
    "#Fit the model\n",
    "history_6 = model_6.fit(X_train, y_train, callbacks=[lr], validation_split=0.2, shuffle=True, epochs=10, verbose=2,batch_size=100)\n",
    "#Evaluate the model\n",
    "model_6.evaluate(X_test,y_test, verbose=2,batch_size=100)\n",
    "\n",
    "pred_dense_6 = model_6.predict(X_test, batch_size=100,verbose=2)"
   ]
  },
  {
   "cell_type": "code",
   "execution_count": 25,
   "metadata": {},
   "outputs": [
    {
     "name": "stdout",
     "output_type": "stream",
     "text": [
      "_________________________________________________________________\n",
      "Layer (type)                 Output Shape              Param #   \n",
      "=================================================================\n",
      "embedding_4 (Embedding)      (None, 15, 200)           78000     \n",
      "_________________________________________________________________\n",
      "flatten_1 (Flatten)          (None, 3000)              0         \n",
      "_________________________________________________________________\n",
      "dense_7 (Dense)              (None, 200)               600200    \n",
      "_________________________________________________________________\n",
      "dense_8 (Dense)              (None, 1)                 201       \n",
      "=================================================================\n",
      "Total params: 678,401\n",
      "Trainable params: 678,401\n",
      "Non-trainable params: 0\n",
      "_________________________________________________________________\n"
     ]
    }
   ],
   "source": [
    "model_6.summary()"
   ]
  },
  {
   "cell_type": "code",
   "execution_count": 26,
   "metadata": {},
   "outputs": [
    {
     "name": "stdout",
     "output_type": "stream",
     "text": [
      "[[13076     2]\n",
      " [    0 13018]]\n",
      "0.9999231891850373\n"
     ]
    }
   ],
   "source": [
    "print_metrics(pred_dense_6,y_test)  "
   ]
  },
  {
   "cell_type": "code",
   "execution_count": 27,
   "metadata": {},
   "outputs": [
    {
     "data": {
      "image/png": "[encoded data removed]",
      "text/plain": [
       "<Figure size 432x288 with 1 Axes>"
      ]
     },
     "metadata": {
      "needs_background": "light"
     },
     "output_type": "display_data"
    },
    {
     "data": {
      "image/png": "[encoded data removed]",
      "text/plain": [
       "<Figure size 432x288 with 1 Axes>"
      ]
     },
     "metadata": {
      "needs_background": "light"
     },
     "output_type": "display_data"
    }
   ],
   "source": [
    "plot_model(history_6)  "
   ]
  }
 ],
 "metadata": {
  "kernelspec": {
   "display_name": "Python 3",
   "language": "python",
   "name": "python3"
  },
  "language_info": {
   "codemirror_mode": {
    "name": "ipython",
    "version": 3
   },
   "file_extension": ".py",
   "mimetype": "text/x-python",
   "name": "python",
   "nbconvert_exporter": "python",
   "pygments_lexer": "ipython3",
   "version": "3.6.6"
  }
 },
 "nbformat": 4,
 "nbformat_minor": 2
}
